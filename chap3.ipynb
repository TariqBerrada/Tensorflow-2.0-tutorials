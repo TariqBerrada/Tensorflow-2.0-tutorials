{
 "cells": [
  {
   "cell_type": "markdown",
   "metadata": {},
   "source": [
    "# K-NN"
   ]
  },
  {
   "cell_type": "code",
   "execution_count": 1,
   "metadata": {},
   "outputs": [],
   "source": [
    "import numpy as np\n",
    "from sklearn import datasets\n",
    "import tensorflow as tf"
   ]
  },
  {
   "cell_type": "code",
   "execution_count": 9,
   "metadata": {
    "tags": []
   },
   "outputs": [
    {
     "output_type": "stream",
     "name": "stdout",
     "text": "(150, 4) (150,)\n"
    }
   ],
   "source": [
    "iris = datasets.load_iris()\n",
    "x = np.array([i for i in iris.data])\n",
    "y = np.array([i for i in iris.target])\n",
    "\n",
    "print(x.shape, y.shape)"
   ]
  },
  {
   "cell_type": "code",
   "execution_count": 10,
   "metadata": {
    "tags": []
   },
   "outputs": [
    {
     "output_type": "stream",
     "name": "stdout",
     "text": "[0 0 0 0 0 0 0 0 0 0]\n"
    },
    {
     "output_type": "execute_result",
     "data": {
      "text/plain": "array([[1., 0., 0.],\n       [1., 0., 0.],\n       [1., 0., 0.],\n       [1., 0., 0.],\n       [1., 0., 0.],\n       [1., 0., 0.],\n       [1., 0., 0.],\n       [1., 0., 0.],\n       [1., 0., 0.],\n       [1., 0., 0.]])"
     },
     "metadata": {},
     "execution_count": 10
    }
   ],
   "source": [
    "flower_labels = [\"iris setosa\", \"iris virginica\", \"iris versicolor\"]\n",
    "print(y[:10])\n",
    "#another method for one hot encoding the labels\n",
    "y = np.eye(len(set(y)))[y]\n",
    "y[:10]"
   ]
  },
  {
   "cell_type": "code",
   "execution_count": 11,
   "metadata": {},
   "outputs": [],
   "source": [
    "#feature normalization\n",
    "x = (x - x.min(axis=0))/(x.max(axis=0) - x.min(axis=0))"
   ]
  },
  {
   "cell_type": "code",
   "execution_count": 12,
   "metadata": {},
   "outputs": [],
   "source": [
    "np.random.seed(42)\n",
    "split = 0.8\n",
    "train_indices = np.random.choice(len(x), round(len(x)*split), replace=False)\n",
    "test_indices = np.array(list(set(range(len(x)))-set(train_indices)))"
   ]
  },
  {
   "cell_type": "code",
   "execution_count": 13,
   "metadata": {},
   "outputs": [],
   "source": [
    "train_x = x[train_indices]\n",
    "test_x = x[test_indices]\n",
    "train_y = y[train_indices]\n",
    "test_y = y[test_indices]\n",
    "\n",
    "k = 5"
   ]
  },
  {
   "cell_type": "code",
   "execution_count": 23,
   "metadata": {
    "tags": []
   },
   "outputs": [],
   "source": [
    "def prediction(train_x, test_x, train_y, k):\n",
    "    d0 = tf.expand_dims(test_x, axis = 1)\n",
    "    d1 = tf.subtract(train_x, d0)\n",
    "    d2 = tf.abs(d1)\n",
    "    distances = tf.reduce_sum(input_tensor = d2, axis = 2)\n",
    "    return distances\n",
    "\n",
    "distances = prediction(train_x, test_x, train_y, k)"
   ]
  },
  {
   "cell_type": "code",
   "execution_count": 24,
   "metadata": {},
   "outputs": [],
   "source": [
    "_, top_k_indices = tf.nn.top_k(tf.negative(distances), k=k)"
   ]
  },
  {
   "cell_type": "code",
   "execution_count": 25,
   "metadata": {},
   "outputs": [],
   "source": [
    "top_k_labels = tf.gather(train_y, top_k_indices)\n",
    "predictions_sum = tf.reduce_sum(input_tensor = top_k_labels, axis=1)"
   ]
  },
  {
   "cell_type": "code",
   "execution_count": 27,
   "metadata": {},
   "outputs": [],
   "source": [
    "pred = tf.argmax(input=predictions_sum, axis=1)"
   ]
  },
  {
   "cell_type": "code",
   "execution_count": 30,
   "metadata": {},
   "outputs": [],
   "source": [
    "def prediction(train_x, test_x, train_y, k):\n",
    "    distances = tf.reduce_sum(tf.abs(tf.subtract(train_x, tf.expand_dims(test_x, axis=1))), axis=2)\n",
    "    _, top_k_indices = tf.nn.top_k(tf.negative(distances), k=k)\n",
    "    top_k_labels = tf.gather(train_y, top_k_indices)\n",
    "    predictions_sum = tf.reduce_sum(input_tensor = top_k_labels, axis=1)\n",
    "    pred = tf.argmax(input=predictions_sum, axis=1)\n",
    "    return pred"
   ]
  },
  {
   "cell_type": "code",
   "execution_count": 29,
   "metadata": {
    "tags": []
   },
   "outputs": [
    {
     "output_type": "stream",
     "name": "stdout",
     "text": "(30, 4)\n(30, 1, 4)\n"
    }
   ],
   "source": [
    "print(test_x.shape)\n",
    "print(tf.expand_dims(test_x, axis=1).shape)"
   ]
  },
  {
   "cell_type": "markdown",
   "metadata": {},
   "source": [
    "### Checking the results obtained"
   ]
  },
  {
   "cell_type": "code",
   "execution_count": 44,
   "metadata": {
    "tags": []
   },
   "outputs": [
    {
     "output_type": "stream",
     "name": "stdout",
     "text": "id || predicted || actual\n___________________\n0 iris setosa \t iris setosa\n1 iris versicolor \t iris versicolor\n2 iris versicolor \t iris versicolor\n3 iris versicolor \t iris versicolor\n4 iris setosa \t iris setosa\n5 iris versicolor \t iris versicolor\n6 iris setosa \t iris setosa\n7 iris setosa \t iris setosa\n8 iris versicolor \t iris versicolor\n9 iris setosa \t iris setosa\n10 iris setosa \t iris setosa\n11 iris setosa \t iris setosa\n12 iris virginica \t iris virginica\n13 iris virginica \t iris virginica\n14 iris virginica \t iris virginica\n15 iris virginica \t iris virginica\n16 iris virginica \t iris virginica\n17 iris virginica \t iris virginica\n18 iris virginica \t iris virginica\n19 iris virginica \t iris virginica\n20 iris virginica \t iris virginica\n21 iris virginica \t iris virginica\n22 iris virginica \t iris virginica\n23 iris versicolor \t iris versicolor\n24 iris versicolor \t iris versicolor\n25 iris virginica \t iris versicolor\n26 iris versicolor \t iris versicolor\n27 iris versicolor \t iris versicolor\n28 iris versicolor \t iris versicolor\n29 iris versicolor \t iris versicolor\n___________________\naccuracy = 96.7 %\n"
    }
   ],
   "source": [
    "i, total = 0, 0\n",
    "results = zip(prediction(train_x, test_x, train_y, k), test_y)\n",
    "print(\"id || predicted || actual\")\n",
    "print(\"___________________\")\n",
    "for pred, actual in results:\n",
    "    print(i, flower_labels[pred.numpy()], \"\\t\", flower_labels[np.argmax(actual)])\n",
    "    if pred.numpy() == np.argmax(actual):\n",
    "        total += 1\n",
    "    i += 1\n",
    "print(\"___________________\")\n",
    "accuracy = round(total/len(test_x), 3)*100\n",
    "print(\"accuracy = %.1f\"%accuracy+' %')"
   ]
  },
  {
   "cell_type": "code",
   "execution_count": null,
   "metadata": {},
   "outputs": [],
   "source": []
  }
 ],
 "metadata": {
  "language_info": {
   "codemirror_mode": {
    "name": "ipython",
    "version": 3
   },
   "file_extension": ".py",
   "mimetype": "text/x-python",
   "name": "python",
   "nbconvert_exporter": "python",
   "pygments_lexer": "ipython3",
   "version": 3
  },
  "orig_nbformat": 2,
  "kernelspec": {
   "name": "python_defaultSpec_1593940218767",
   "display_name": "Python 3.7.4 64-bit ('base': conda)"
  }
 },
 "nbformat": 4,
 "nbformat_minor": 2
}