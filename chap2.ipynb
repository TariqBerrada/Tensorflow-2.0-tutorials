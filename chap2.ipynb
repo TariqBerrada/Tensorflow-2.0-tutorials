{
 "cells": [
  {
   "cell_type": "code",
   "execution_count": 1,
   "metadata": {},
   "outputs": [],
   "source": [
    "import tensorflow as tf\n",
    "import numpy as np"
   ]
  },
  {
   "cell_type": "code",
   "execution_count": 2,
   "metadata": {},
   "outputs": [],
   "source": [
    "num_items = 11\n",
    "num_list1 = np.arange(num_items)\n",
    "num_list2 = np.arange(num_items, num_items*2)"
   ]
  },
  {
   "cell_type": "code",
   "execution_count": 5,
   "metadata": {},
   "outputs": [],
   "source": [
    "num_list1_dataset = tf.data.Dataset.from_tensor_slices(num_list1)"
   ]
  },
  {
   "cell_type": "code",
   "execution_count": 8,
   "metadata": {
    "tags": []
   },
   "outputs": [],
   "source": [
    "iterator = tf.compat.v1.data.make_one_shot_iterator(num_list1_dataset)"
   ]
  },
  {
   "cell_type": "code",
   "execution_count": 11,
   "metadata": {
    "tags": []
   },
   "outputs": [
    {
     "output_type": "error",
     "ename": "OutOfRangeError",
     "evalue": "End of sequence",
     "traceback": [
      "\u001b[1;31m---------------------------------------------------------------------------\u001b[0m",
      "\u001b[1;31mOutOfRangeError\u001b[0m                           Traceback (most recent call last)",
      "\u001b[1;32mC:\\ProgramData\\Anaconda3\\lib\\site-packages\\tensorflow_core\\python\\eager\\context.py\u001b[0m in \u001b[0;36mexecution_mode\u001b[1;34m(mode)\u001b[0m\n\u001b[0;32m   1896\u001b[0m     \u001b[0mctx\u001b[0m\u001b[1;33m.\u001b[0m\u001b[0mexecutor\u001b[0m \u001b[1;33m=\u001b[0m \u001b[0mexecutor_new\u001b[0m\u001b[1;33m\u001b[0m\u001b[1;33m\u001b[0m\u001b[0m\n\u001b[1;32m-> 1897\u001b[1;33m     \u001b[1;32myield\u001b[0m\u001b[1;33m\u001b[0m\u001b[1;33m\u001b[0m\u001b[0m\n\u001b[0m\u001b[0;32m   1898\u001b[0m   \u001b[1;32mfinally\u001b[0m\u001b[1;33m:\u001b[0m\u001b[1;33m\u001b[0m\u001b[1;33m\u001b[0m\u001b[0m\n",
      "\u001b[1;32mC:\\ProgramData\\Anaconda3\\lib\\site-packages\\tensorflow_core\\python\\data\\ops\\iterator_ops.py\u001b[0m in \u001b[0;36m_next_internal\u001b[1;34m(self)\u001b[0m\n\u001b[0;32m    658\u001b[0m             \u001b[0moutput_types\u001b[0m\u001b[1;33m=\u001b[0m\u001b[0mself\u001b[0m\u001b[1;33m.\u001b[0m\u001b[0m_flat_output_types\u001b[0m\u001b[1;33m,\u001b[0m\u001b[1;33m\u001b[0m\u001b[1;33m\u001b[0m\u001b[0m\n\u001b[1;32m--> 659\u001b[1;33m             output_shapes=self._flat_output_shapes)\n\u001b[0m\u001b[0;32m    660\u001b[0m \u001b[1;33m\u001b[0m\u001b[0m\n",
      "\u001b[1;32mC:\\ProgramData\\Anaconda3\\lib\\site-packages\\tensorflow_core\\python\\ops\\gen_dataset_ops.py\u001b[0m in \u001b[0;36miterator_get_next_sync\u001b[1;34m(iterator, output_types, output_shapes, name)\u001b[0m\n\u001b[0;32m   2477\u001b[0m     \u001b[1;32mexcept\u001b[0m \u001b[0m_core\u001b[0m\u001b[1;33m.\u001b[0m\u001b[0m_NotOkStatusException\u001b[0m \u001b[1;32mas\u001b[0m \u001b[0me\u001b[0m\u001b[1;33m:\u001b[0m\u001b[1;33m\u001b[0m\u001b[1;33m\u001b[0m\u001b[0m\n\u001b[1;32m-> 2478\u001b[1;33m       \u001b[0m_ops\u001b[0m\u001b[1;33m.\u001b[0m\u001b[0mraise_from_not_ok_status\u001b[0m\u001b[1;33m(\u001b[0m\u001b[0me\u001b[0m\u001b[1;33m,\u001b[0m \u001b[0mname\u001b[0m\u001b[1;33m)\u001b[0m\u001b[1;33m\u001b[0m\u001b[1;33m\u001b[0m\u001b[0m\n\u001b[0m\u001b[0;32m   2479\u001b[0m   \u001b[1;31m# Add nodes to the TensorFlow graph.\u001b[0m\u001b[1;33m\u001b[0m\u001b[1;33m\u001b[0m\u001b[1;33m\u001b[0m\u001b[0m\n",
      "\u001b[1;32mC:\\ProgramData\\Anaconda3\\lib\\site-packages\\tensorflow_core\\python\\framework\\ops.py\u001b[0m in \u001b[0;36mraise_from_not_ok_status\u001b[1;34m(e, name)\u001b[0m\n\u001b[0;32m   6605\u001b[0m   \u001b[1;31m# pylint: disable=protected-access\u001b[0m\u001b[1;33m\u001b[0m\u001b[1;33m\u001b[0m\u001b[1;33m\u001b[0m\u001b[0m\n\u001b[1;32m-> 6606\u001b[1;33m   \u001b[0msix\u001b[0m\u001b[1;33m.\u001b[0m\u001b[0mraise_from\u001b[0m\u001b[1;33m(\u001b[0m\u001b[0mcore\u001b[0m\u001b[1;33m.\u001b[0m\u001b[0m_status_to_exception\u001b[0m\u001b[1;33m(\u001b[0m\u001b[0me\u001b[0m\u001b[1;33m.\u001b[0m\u001b[0mcode\u001b[0m\u001b[1;33m,\u001b[0m \u001b[0mmessage\u001b[0m\u001b[1;33m)\u001b[0m\u001b[1;33m,\u001b[0m \u001b[1;32mNone\u001b[0m\u001b[1;33m)\u001b[0m\u001b[1;33m\u001b[0m\u001b[1;33m\u001b[0m\u001b[0m\n\u001b[0m\u001b[0;32m   6607\u001b[0m   \u001b[1;31m# pylint: enable=protected-access\u001b[0m\u001b[1;33m\u001b[0m\u001b[1;33m\u001b[0m\u001b[1;33m\u001b[0m\u001b[0m\n",
      "\u001b[1;32m~\\AppData\\Roaming\\Python\\Python37\\site-packages\\six.py\u001b[0m in \u001b[0;36mraise_from\u001b[1;34m(value, from_value)\u001b[0m\n",
      "\u001b[1;31mOutOfRangeError\u001b[0m: End of sequence [Op:IteratorGetNextSync]",
      "\nDuring handling of the above exception, another exception occurred:\n",
      "\u001b[1;31mOutOfRangeError\u001b[0m                           Traceback (most recent call last)",
      "\u001b[1;32m<ipython-input-11-ee55630e5c92>\u001b[0m in \u001b[0;36m<module>\u001b[1;34m\u001b[0m\n\u001b[0;32m      1\u001b[0m \u001b[1;32mfor\u001b[0m \u001b[0mitem\u001b[0m \u001b[1;32min\u001b[0m \u001b[0mnum_list1_dataset\u001b[0m\u001b[1;33m:\u001b[0m\u001b[1;33m\u001b[0m\u001b[1;33m\u001b[0m\u001b[0m\n\u001b[1;32m----> 2\u001b[1;33m     \u001b[0mnum\u001b[0m \u001b[1;33m=\u001b[0m \u001b[0miterator\u001b[0m\u001b[1;33m.\u001b[0m\u001b[0mget_next\u001b[0m\u001b[1;33m(\u001b[0m\u001b[1;33m)\u001b[0m\u001b[1;33m.\u001b[0m\u001b[0mnumpy\u001b[0m\u001b[1;33m(\u001b[0m\u001b[1;33m)\u001b[0m\u001b[1;33m\u001b[0m\u001b[1;33m\u001b[0m\u001b[0m\n\u001b[0m\u001b[0;32m      3\u001b[0m     \u001b[0mprint\u001b[0m\u001b[1;33m(\u001b[0m\u001b[0mnum\u001b[0m\u001b[1;33m)\u001b[0m\u001b[1;33m\u001b[0m\u001b[1;33m\u001b[0m\u001b[0m\n",
      "\u001b[1;32mC:\\ProgramData\\Anaconda3\\lib\\site-packages\\tensorflow_core\\python\\data\\ops\\iterator_ops.py\u001b[0m in \u001b[0;36mget_next\u001b[1;34m(***failed resolving arguments***)\u001b[0m\n\u001b[0;32m    743\u001b[0m     \"\"\"\n\u001b[0;32m    744\u001b[0m     \u001b[1;32mdel\u001b[0m \u001b[0mname\u001b[0m\u001b[1;33m\u001b[0m\u001b[1;33m\u001b[0m\u001b[0m\n\u001b[1;32m--> 745\u001b[1;33m     \u001b[1;32mreturn\u001b[0m \u001b[0mself\u001b[0m\u001b[1;33m.\u001b[0m\u001b[0m_next_internal\u001b[0m\u001b[1;33m(\u001b[0m\u001b[1;33m)\u001b[0m\u001b[1;33m\u001b[0m\u001b[1;33m\u001b[0m\u001b[0m\n\u001b[0m\u001b[0;32m    746\u001b[0m \u001b[1;33m\u001b[0m\u001b[0m\n\u001b[0;32m    747\u001b[0m   \u001b[1;32mdef\u001b[0m \u001b[0m_gather_saveables_for_checkpoint\u001b[0m\u001b[1;33m(\u001b[0m\u001b[0mself\u001b[0m\u001b[1;33m)\u001b[0m\u001b[1;33m:\u001b[0m\u001b[1;33m\u001b[0m\u001b[1;33m\u001b[0m\u001b[0m\n",
      "\u001b[1;32mC:\\ProgramData\\Anaconda3\\lib\\site-packages\\tensorflow_core\\python\\data\\ops\\iterator_ops.py\u001b[0m in \u001b[0;36m_next_internal\u001b[1;34m(self)\u001b[0m\n\u001b[0;32m    663\u001b[0m         \u001b[1;32mreturn\u001b[0m \u001b[0mself\u001b[0m\u001b[1;33m.\u001b[0m\u001b[0m_element_spec\u001b[0m\u001b[1;33m.\u001b[0m\u001b[0m_from_compatible_tensor_list\u001b[0m\u001b[1;33m(\u001b[0m\u001b[0mret\u001b[0m\u001b[1;33m)\u001b[0m  \u001b[1;31m# pylint: disable=protected-access\u001b[0m\u001b[1;33m\u001b[0m\u001b[1;33m\u001b[0m\u001b[0m\n\u001b[0;32m    664\u001b[0m       \u001b[1;32mexcept\u001b[0m \u001b[0mAttributeError\u001b[0m\u001b[1;33m:\u001b[0m\u001b[1;33m\u001b[0m\u001b[1;33m\u001b[0m\u001b[0m\n\u001b[1;32m--> 665\u001b[1;33m         \u001b[1;32mreturn\u001b[0m \u001b[0mstructure\u001b[0m\u001b[1;33m.\u001b[0m\u001b[0mfrom_compatible_tensor_list\u001b[0m\u001b[1;33m(\u001b[0m\u001b[0mself\u001b[0m\u001b[1;33m.\u001b[0m\u001b[0m_element_spec\u001b[0m\u001b[1;33m,\u001b[0m \u001b[0mret\u001b[0m\u001b[1;33m)\u001b[0m\u001b[1;33m\u001b[0m\u001b[1;33m\u001b[0m\u001b[0m\n\u001b[0m\u001b[0;32m    666\u001b[0m \u001b[1;33m\u001b[0m\u001b[0m\n\u001b[0;32m    667\u001b[0m   \u001b[1;33m@\u001b[0m\u001b[0mproperty\u001b[0m\u001b[1;33m\u001b[0m\u001b[1;33m\u001b[0m\u001b[0m\n",
      "\u001b[1;32mC:\\ProgramData\\Anaconda3\\lib\\contextlib.py\u001b[0m in \u001b[0;36m__exit__\u001b[1;34m(self, type, value, traceback)\u001b[0m\n\u001b[0;32m    128\u001b[0m                 \u001b[0mvalue\u001b[0m \u001b[1;33m=\u001b[0m \u001b[0mtype\u001b[0m\u001b[1;33m(\u001b[0m\u001b[1;33m)\u001b[0m\u001b[1;33m\u001b[0m\u001b[1;33m\u001b[0m\u001b[0m\n\u001b[0;32m    129\u001b[0m             \u001b[1;32mtry\u001b[0m\u001b[1;33m:\u001b[0m\u001b[1;33m\u001b[0m\u001b[1;33m\u001b[0m\u001b[0m\n\u001b[1;32m--> 130\u001b[1;33m                 \u001b[0mself\u001b[0m\u001b[1;33m.\u001b[0m\u001b[0mgen\u001b[0m\u001b[1;33m.\u001b[0m\u001b[0mthrow\u001b[0m\u001b[1;33m(\u001b[0m\u001b[0mtype\u001b[0m\u001b[1;33m,\u001b[0m \u001b[0mvalue\u001b[0m\u001b[1;33m,\u001b[0m \u001b[0mtraceback\u001b[0m\u001b[1;33m)\u001b[0m\u001b[1;33m\u001b[0m\u001b[1;33m\u001b[0m\u001b[0m\n\u001b[0m\u001b[0;32m    131\u001b[0m             \u001b[1;32mexcept\u001b[0m \u001b[0mStopIteration\u001b[0m \u001b[1;32mas\u001b[0m \u001b[0mexc\u001b[0m\u001b[1;33m:\u001b[0m\u001b[1;33m\u001b[0m\u001b[1;33m\u001b[0m\u001b[0m\n\u001b[0;32m    132\u001b[0m                 \u001b[1;31m# Suppress StopIteration *unless* it's the same exception that\u001b[0m\u001b[1;33m\u001b[0m\u001b[1;33m\u001b[0m\u001b[1;33m\u001b[0m\u001b[0m\n",
      "\u001b[1;32mC:\\ProgramData\\Anaconda3\\lib\\site-packages\\tensorflow_core\\python\\eager\\context.py\u001b[0m in \u001b[0;36mexecution_mode\u001b[1;34m(mode)\u001b[0m\n\u001b[0;32m   1898\u001b[0m   \u001b[1;32mfinally\u001b[0m\u001b[1;33m:\u001b[0m\u001b[1;33m\u001b[0m\u001b[1;33m\u001b[0m\u001b[0m\n\u001b[0;32m   1899\u001b[0m     \u001b[0mctx\u001b[0m\u001b[1;33m.\u001b[0m\u001b[0mexecutor\u001b[0m \u001b[1;33m=\u001b[0m \u001b[0mexecutor_old\u001b[0m\u001b[1;33m\u001b[0m\u001b[1;33m\u001b[0m\u001b[0m\n\u001b[1;32m-> 1900\u001b[1;33m     \u001b[0mexecutor_new\u001b[0m\u001b[1;33m.\u001b[0m\u001b[0mwait\u001b[0m\u001b[1;33m(\u001b[0m\u001b[1;33m)\u001b[0m\u001b[1;33m\u001b[0m\u001b[1;33m\u001b[0m\u001b[0m\n\u001b[0m\u001b[0;32m   1901\u001b[0m \u001b[1;33m\u001b[0m\u001b[0m\n\u001b[0;32m   1902\u001b[0m \u001b[1;33m\u001b[0m\u001b[0m\n",
      "\u001b[1;32mC:\\ProgramData\\Anaconda3\\lib\\site-packages\\tensorflow_core\\python\\eager\\executor.py\u001b[0m in \u001b[0;36mwait\u001b[1;34m(self)\u001b[0m\n\u001b[0;32m     65\u001b[0m   \u001b[1;32mdef\u001b[0m \u001b[0mwait\u001b[0m\u001b[1;33m(\u001b[0m\u001b[0mself\u001b[0m\u001b[1;33m)\u001b[0m\u001b[1;33m:\u001b[0m\u001b[1;33m\u001b[0m\u001b[1;33m\u001b[0m\u001b[0m\n\u001b[0;32m     66\u001b[0m     \u001b[1;34m\"\"\"Waits for ops dispatched in this executor to finish.\"\"\"\u001b[0m\u001b[1;33m\u001b[0m\u001b[1;33m\u001b[0m\u001b[0m\n\u001b[1;32m---> 67\u001b[1;33m     \u001b[0mpywrap_tensorflow\u001b[0m\u001b[1;33m.\u001b[0m\u001b[0mTFE_ExecutorWaitForAllPendingNodes\u001b[0m\u001b[1;33m(\u001b[0m\u001b[0mself\u001b[0m\u001b[1;33m.\u001b[0m\u001b[0m_handle\u001b[0m\u001b[1;33m)\u001b[0m\u001b[1;33m\u001b[0m\u001b[1;33m\u001b[0m\u001b[0m\n\u001b[0m\u001b[0;32m     68\u001b[0m \u001b[1;33m\u001b[0m\u001b[0m\n\u001b[0;32m     69\u001b[0m   \u001b[1;32mdef\u001b[0m \u001b[0mclear_error\u001b[0m\u001b[1;33m(\u001b[0m\u001b[0mself\u001b[0m\u001b[1;33m)\u001b[0m\u001b[1;33m:\u001b[0m\u001b[1;33m\u001b[0m\u001b[1;33m\u001b[0m\u001b[0m\n",
      "\u001b[1;31mOutOfRangeError\u001b[0m: End of sequence"
     ]
    }
   ],
   "source": [
    "for item in num_list1_dataset:\n",
    "    num = iterator.get_next().numpy()\n",
    "    print(num)\n",
    "#Executing the same code twice raises an error."
   ]
  },
  {
   "cell_type": "code",
   "execution_count": 14,
   "metadata": {
    "tags": []
   },
   "outputs": [
    {
     "output_type": "stream",
     "name": "stdout",
     "text": "[0 1 2]\n[3 4 5]\n[6 7 8]\n[ 9 10]\n"
    }
   ],
   "source": [
    "#Acess a whole batch at a time\n",
    "num_list1_dataset = tf.data.Dataset.from_tensor_slices(num_list1).batch(3, drop_remainder =False)\n",
    "iterator = tf.compat.v1.data.make_one_shot_iterator(num_list1_dataset)\n",
    "for item in num_list1_dataset:\n",
    "    num = iterator.get_next().numpy()\n",
    "    print(num)\n",
    "\n",
    "#Drop remainder assures that only batches of exactly batch size are passing through"
   ]
  },
  {
   "cell_type": "code",
   "execution_count": 15,
   "metadata": {
    "tags": []
   },
   "outputs": [
    {
     "output_type": "stream",
     "name": "stdout",
     "text": "['a', 'e', 'i', 'o', 'u']\n"
    }
   ],
   "source": [
    "#To present features and labels together\n",
    "dataset1 = [1,2,3, 4, 5]\n",
    "dataset2 = list('aeiou')\n",
    "dataset1 = tf.data.Dataset.from_tensor_slices(dataset1)\n",
    "dataset2 = tf.data.Dataset.from_tensor_slices(dataset2)\n",
    "zipped_datasets = tf.data.Dataset.zip((dataset1, dataset2))\n",
    "iterator = tf.compat.v1.data.make_one_shot_iterator(zipped_datasets)\n",
    "for item in zipped_datasets:\n",
    "    #since we aren't dealing with numpy arrays ?! why is there no .numpy()\n",
    "    num = iterator.get_next()\n",
    "    print(num)"
   ]
  },
  {
   "cell_type": "code",
   "execution_count": null,
   "metadata": {},
   "outputs": [],
   "source": [
    "ds1 = tf.data.Dataset.from_tensor_slices"
   ]
  },
  {
   "cell_type": "markdown",
   "metadata": {},
   "source": [
    "## Concatenate two datasets"
   ]
  },
  {
   "cell_type": "code",
   "execution_count": 18,
   "metadata": {
    "tags": []
   },
   "outputs": [
    {
     "output_type": "stream",
     "name": "stdout",
     "text": "<ConcatenateDataset shapes: (), types: tf.int32>\n1\n2\n3\n5\n7\n11\n13\n17\n19\n23\n29\n31\n37\n41\n"
    }
   ],
   "source": [
    "ds1 = tf.data.Dataset.from_tensor_slices([1, 2, 3, 5, 7, 11, 13, 17])\n",
    "ds2 = tf.data.Dataset.from_tensor_slices([19, 23, 29, 31, 37, 41])\n",
    "ds3 = ds1.concatenate(ds2)\n",
    "print(ds3)\n",
    "iterator = tf.compat.v1.data.make_one_shot_iterator(ds3)\n",
    "for i in range(14):\n",
    "    num = iterator.get_next().numpy()\n",
    "    print(num)"
   ]
  },
  {
   "cell_type": "markdown",
   "metadata": {},
   "source": [
    "## Using CSV files in datasets"
   ]
  },
  {
   "cell_type": "code",
   "execution_count": 21,
   "metadata": {
    "tags": [
     "outputPrepend"
    ]
   },
   "outputs": [
    {
     "output_type": "stream",
     "name": "stdout",
     "text": " <tf.Tensor: shape=(), dtype=float32, numpy=-9.620903>)\n(<tf.Tensor: shape=(), dtype=float32, numpy=17.725624>, <tf.Tensor: shape=(), dtype=float32, numpy=-2.7907386>)\n(<tf.Tensor: shape=(), dtype=float32, numpy=11.908596>, <tf.Tensor: shape=(), dtype=float32, numpy=-7.098449>)\n(<tf.Tensor: shape=(), dtype=float32, numpy=14.175741>, <tf.Tensor: shape=(), dtype=float32, numpy=2.6668468>)\n(<tf.Tensor: shape=(), dtype=float32, numpy=1.788308>, <tf.Tensor: shape=(), dtype=float32, numpy=-6.0094914>)\n(<tf.Tensor: shape=(), dtype=float32, numpy=15.963848>, <tf.Tensor: shape=(), dtype=float32, numpy=-4.835417>)\n(<tf.Tensor: shape=(), dtype=float32, numpy=-5.4839935>, <tf.Tensor: shape=(), dtype=float32, numpy=5.4366775>)\n(<tf.Tensor: shape=(), dtype=float32, numpy=-4.657263>, <tf.Tensor: shape=(), dtype=float32, numpy=-4.5396028>)\n(<tf.Tensor: shape=(), dtype=float32, numpy=16.127203>, <tf.Tensor: shape=(), dtype=float32, numpy=7.793842>)\n(<tf.Tensor: shape=(), dtype=float32, numpy=2.0148365>, <tf.Tensor: shape=(), dtype=float32, numpy=4.0499635>)\n(<tf.Tensor: shape=(), dtype=float32, numpy=12.786169>, <tf.Tensor: shape=(), dtype=float32, numpy=-6.250034>)\n(<tf.Tensor: shape=(), dtype=float32, numpy=12.543535>, <tf.Tensor: shape=(), dtype=float32, numpy=-6.3869815>)\n(<tf.Tensor: shape=(), dtype=float32, numpy=15.098667>, <tf.Tensor: shape=(), dtype=float32, numpy=1.3081093>)\n(<tf.Tensor: shape=(), dtype=float32, numpy=-7.190146>, <tf.Tensor: shape=(), dtype=float32, numpy=-8.6378565>)\n(<tf.Tensor: shape=(), dtype=float32, numpy=-1.544742>, <tf.Tensor: shape=(), dtype=float32, numpy=-9.242423>)\n(<tf.Tensor: shape=(), dtype=float32, numpy=4.0681787>, <tf.Tensor: shape=(), dtype=float32, numpy=1.4678313>)\n(<tf.Tensor: shape=(), dtype=float32, numpy=6.653145>, <tf.Tensor: shape=(), dtype=float32, numpy=-0.1019391>)\n(<tf.Tensor: shape=(), dtype=float32, numpy=5.4042497>, <tf.Tensor: shape=(), dtype=float32, numpy=-0.84646857>)\n(<tf.Tensor: shape=(), dtype=float32, numpy=7.1124864>, <tf.Tensor: shape=(), dtype=float32, numpy=2.0405102>)\n(<tf.Tensor: shape=(), dtype=float32, numpy=15.399248>, <tf.Tensor: shape=(), dtype=float32, numpy=7.386199>)\n(<tf.Tensor: shape=(), dtype=float32, numpy=20.297049>, <tf.Tensor: shape=(), dtype=float32, numpy=7.119876>)\n(<tf.Tensor: shape=(), dtype=float32, numpy=-0.013156829>, <tf.Tensor: shape=(), dtype=float32, numpy=-8.440397>)\n(<tf.Tensor: shape=(), dtype=float32, numpy=20.686544>, <tf.Tensor: shape=(), dtype=float32, numpy=6.7311907>)\n(<tf.Tensor: shape=(), dtype=float32, numpy=2.6854463>, <tf.Tensor: shape=(), dtype=float32, numpy=-11.286624>)\n(<tf.Tensor: shape=(), dtype=float32, numpy=3.3734553>, <tf.Tensor: shape=(), dtype=float32, numpy=-6.71562>)\n(<tf.Tensor: shape=(), dtype=float32, numpy=2.7538378>, <tf.Tensor: shape=(), dtype=float32, numpy=-10.8480015>)\n(<tf.Tensor: shape=(), dtype=float32, numpy=4.7848687>, <tf.Tensor: shape=(), dtype=float32, numpy=-4.3625803>)\n(<tf.Tensor: shape=(), dtype=float32, numpy=19.129347>, <tf.Tensor: shape=(), dtype=float32, numpy=2.855157>)\n(<tf.Tensor: shape=(), dtype=float32, numpy=16.426596>, <tf.Tensor: shape=(), dtype=float32, numpy=6.3417153>)\n(<tf.Tensor: shape=(), dtype=float32, numpy=14.507874>, <tf.Tensor: shape=(), dtype=float32, numpy=-5.5268855>)\n(<tf.Tensor: shape=(), dtype=float32, numpy=12.167195>, <tf.Tensor: shape=(), dtype=float32, numpy=-5.628116>)\n(<tf.Tensor: shape=(), dtype=float32, numpy=3.585866>, <tf.Tensor: shape=(), dtype=float32, numpy=-0.21071453>)\n(<tf.Tensor: shape=(), dtype=float32, numpy=3.8021405>, <tf.Tensor: shape=(), dtype=float32, numpy=3.7906184>)\n(<tf.Tensor: shape=(), dtype=float32, numpy=11.636687>, <tf.Tensor: shape=(), dtype=float32, numpy=-6.8698936>)\n(<tf.Tensor: shape=(), dtype=float32, numpy=1.8359131>, <tf.Tensor: shape=(), dtype=float32, numpy=-9.963869>)\n(<tf.Tensor: shape=(), dtype=float32, numpy=-6.157462>, <tf.Tensor: shape=(), dtype=float32, numpy=-1.5086977>)\n(<tf.Tensor: shape=(), dtype=float32, numpy=-6.929301>, <tf.Tensor: shape=(), dtype=float32, numpy=-2.5088677>)\n(<tf.Tensor: shape=(), dtype=float32, numpy=2.9373596>, <tf.Tensor: shape=(), dtype=float32, numpy=-10.554409>)\n(<tf.Tensor: shape=(), dtype=float32, numpy=-4.5832644>, <tf.Tensor: shape=(), dtype=float32, numpy=-3.7939703>)\n(<tf.Tensor: shape=(), dtype=float32, numpy=11.89997>, <tf.Tensor: shape=(), dtype=float32, numpy=-8.48263>)\n(<tf.Tensor: shape=(), dtype=float32, numpy=6.511087>, <tf.Tensor: shape=(), dtype=float32, numpy=4.6898727>)\n(<tf.Tensor: shape=(), dtype=float32, numpy=13.783859>, <tf.Tensor: shape=(), dtype=float32, numpy=7.9587545>)\n(<tf.Tensor: shape=(), dtype=float32, numpy=16.382544>, <tf.Tensor: shape=(), dtype=float32, numpy=-0.0015056524>)\n(<tf.Tensor: shape=(), dtype=float32, numpy=11.440691>, <tf.Tensor: shape=(), dtype=float32, numpy=-5.7361765>)\n(<tf.Tensor: shape=(), dtype=float32, numpy=0.6199042>, <tf.Tensor: shape=(), dtype=float32, numpy=-8.185904>)\n(<tf.Tensor: shape=(), dtype=float32, numpy=2.6826656>, <tf.Tensor: shape=(), dtype=float32, numpy=-10.231202>)\n(<tf.Tensor: shape=(), dtype=float32, numpy=-7.579743>, <tf.Tensor: shape=(), dtype=float32, numpy=-1.456702>)\n(<tf.Tensor: shape=(), dtype=float32, numpy=-0.21159744>, <tf.Tensor: shape=(), dtype=float32, numpy=-9.25349>)\n(<tf.Tensor: shape=(), dtype=float32, numpy=-7.5333996>, <tf.Tensor: shape=(), dtype=float32, numpy=1.5377752>)\n(<tf.Tensor: shape=(), dtype=float32, numpy=3.7513194>, <tf.Tensor: shape=(), dtype=float32, numpy=-11.325426>)\n(<tf.Tensor: shape=(), dtype=float32, numpy=12.014976>, <tf.Tensor: shape=(), dtype=float32, numpy=-8.001723>)\n(<tf.Tensor: shape=(), dtype=float32, numpy=20.942436>, <tf.Tensor: shape=(), dtype=float32, numpy=0.72928745>)\n(<tf.Tensor: shape=(), dtype=float32, numpy=17.545563>, <tf.Tensor: shape=(), dtype=float32, numpy=5.3919287>)\n(<tf.Tensor: shape=(), dtype=float32, numpy=-3.6060824>, <tf.Tensor: shape=(), dtype=float32, numpy=2.1174366>)\n(<tf.Tensor: shape=(), dtype=float32, numpy=13.873429>, <tf.Tensor: shape=(), dtype=float32, numpy=10.249804>)\n(<tf.Tensor: shape=(), dtype=float32, numpy=12.504618>, <tf.Tensor: shape=(), dtype=float32, numpy=-6.2522845>)\n(<tf.Tensor: shape=(), dtype=float32, numpy=10.177469>, <tf.Tensor: shape=(), dtype=float32, numpy=-4.9381747>)\n(<tf.Tensor: shape=(), dtype=float32, numpy=6.334373>, <tf.Tensor: shape=(), dtype=float32, numpy=1.9745233>)\n(<tf.Tensor: shape=(), dtype=float32, numpy=4.61225>, <tf.Tensor: shape=(), dtype=float32, numpy=0.4975801>)\n(<tf.Tensor: shape=(), dtype=float32, numpy=-6.8852477>, <tf.Tensor: shape=(), dtype=float32, numpy=-1.1144481>)\n(<tf.Tensor: shape=(), dtype=float32, numpy=15.12366>, <tf.Tensor: shape=(), dtype=float32, numpy=-9.387212>)\n(<tf.Tensor: shape=(), dtype=float32, numpy=13.856476>, <tf.Tensor: shape=(), dtype=float32, numpy=-9.1948185>)\n(<tf.Tensor: shape=(), dtype=float32, numpy=-2.754574>, <tf.Tensor: shape=(), dtype=float32, numpy=-6.5812583>)\n(<tf.Tensor: shape=(), dtype=float32, numpy=15.622291>, <tf.Tensor: shape=(), dtype=float32, numpy=4.932709>)\n(<tf.Tensor: shape=(), dtype=float32, numpy=8.233229>, <tf.Tensor: shape=(), dtype=float32, numpy=2.961172>)\n(<tf.Tensor: shape=(), dtype=float32, numpy=4.7916656>, <tf.Tensor: shape=(), dtype=float32, numpy=-3.9700434>)\n(<tf.Tensor: shape=(), dtype=float32, numpy=4.300124>, <tf.Tensor: shape=(), dtype=float32, numpy=4.4259315>)\n(<tf.Tensor: shape=(), dtype=float32, numpy=14.279485>, <tf.Tensor: shape=(), dtype=float32, numpy=-7.3657193>)\n(<tf.Tensor: shape=(), dtype=float32, numpy=1.5664266>, <tf.Tensor: shape=(), dtype=float32, numpy=-12.467655>)\n(<tf.Tensor: shape=(), dtype=float32, numpy=-0.43954626>, <tf.Tensor: shape=(), dtype=float32, numpy=-13.131164>)\n(<tf.Tensor: shape=(), dtype=float32, numpy=8.132667>, <tf.Tensor: shape=(), dtype=float32, numpy=-0.9748598>)\n(<tf.Tensor: shape=(), dtype=float32, numpy=-6.270379>, <tf.Tensor: shape=(), dtype=float32, numpy=1.2269901>)\n(<tf.Tensor: shape=(), dtype=float32, numpy=0.13782889>, <tf.Tensor: shape=(), dtype=float32, numpy=-10.370567>)\n(<tf.Tensor: shape=(), dtype=float32, numpy=1.2556297>, <tf.Tensor: shape=(), dtype=float32, numpy=-7.925715>)\n(<tf.Tensor: shape=(), dtype=float32, numpy=-6.309968>, <tf.Tensor: shape=(), dtype=float32, numpy=-1.8994818>)\n(<tf.Tensor: shape=(), dtype=float32, numpy=0.0066694766>, <tf.Tensor: shape=(), dtype=float32, numpy=-11.103022>)\n(<tf.Tensor: shape=(), dtype=float32, numpy=-6.9933124>, <tf.Tensor: shape=(), dtype=float32, numpy=-4.786599>)\n(<tf.Tensor: shape=(), dtype=float32, numpy=-1.781216>, <tf.Tensor: shape=(), dtype=float32, numpy=-3.6789765>)\n(<tf.Tensor: shape=(), dtype=float32, numpy=-3.4718387>, <tf.Tensor: shape=(), dtype=float32, numpy=0.64167744>)\n(<tf.Tensor: shape=(), dtype=float32, numpy=13.136815>, <tf.Tensor: shape=(), dtype=float32, numpy=-7.711571>)\n(<tf.Tensor: shape=(), dtype=float32, numpy=-2.2732315>, <tf.Tensor: shape=(), dtype=float32, numpy=-0.76022667>)\n(<tf.Tensor: shape=(), dtype=float32, numpy=-4.173323>, <tf.Tensor: shape=(), dtype=float32, numpy=-0.9919191>)\n(<tf.Tensor: shape=(), dtype=float32, numpy=24.74702>, <tf.Tensor: shape=(), dtype=float32, numpy=3.132059>)\n(<tf.Tensor: shape=(), dtype=float32, numpy=19.934101>, <tf.Tensor: shape=(), dtype=float32, numpy=2.911355>)\n(<tf.Tensor: shape=(), dtype=float32, numpy=15.175533>, <tf.Tensor: shape=(), dtype=float32, numpy=-7.288252>)\n(<tf.Tensor: shape=(), dtype=float32, numpy=12.491066>, <tf.Tensor: shape=(), dtype=float32, numpy=-5.6382866>)\n(<tf.Tensor: shape=(), dtype=float32, numpy=3.4276295>, <tf.Tensor: shape=(), dtype=float32, numpy=-9.50791>)\n(<tf.Tensor: shape=(), dtype=float32, numpy=15.796307>, <tf.Tensor: shape=(), dtype=float32, numpy=3.8531034>)\n(<tf.Tensor: shape=(), dtype=float32, numpy=15.580127>, <tf.Tensor: shape=(), dtype=float32, numpy=4.2682242>)\n(<tf.Tensor: shape=(), dtype=float32, numpy=3.4982285>, <tf.Tensor: shape=(), dtype=float32, numpy=1.3019127>)\n(<tf.Tensor: shape=(), dtype=float32, numpy=13.658049>, <tf.Tensor: shape=(), dtype=float32, numpy=-0.46626756>)\n(<tf.Tensor: shape=(), dtype=float32, numpy=15.964119>, <tf.Tensor: shape=(), dtype=float32, numpy=7.9311867>)\n(<tf.Tensor: shape=(), dtype=float32, numpy=11.149966>, <tf.Tensor: shape=(), dtype=float32, numpy=-6.882399>)\n(<tf.Tensor: shape=(), dtype=float32, numpy=4.020845>, <tf.Tensor: shape=(), dtype=float32, numpy=-1.7705971>)\n(<tf.Tensor: shape=(), dtype=float32, numpy=11.589231>, <tf.Tensor: shape=(), dtype=float32, numpy=5.5743213>)\n(<tf.Tensor: shape=(), dtype=float32, numpy=15.493826>, <tf.Tensor: shape=(), dtype=float32, numpy=-5.9506636>)\n(<tf.Tensor: shape=(), dtype=float32, numpy=-9.8951>, <tf.Tensor: shape=(), dtype=float32, numpy=1.822813>)\n(<tf.Tensor: shape=(), dtype=float32, numpy=13.560235>, <tf.Tensor: shape=(), dtype=float32, numpy=-6.4625845>)\n(<tf.Tensor: shape=(), dtype=float32, numpy=14.590805>, <tf.Tensor: shape=(), dtype=float32, numpy=-7.915872>)\n(<tf.Tensor: shape=(), dtype=float32, numpy=-0.6726873>, <tf.Tensor: shape=(), dtype=float32, numpy=1.8365693>)\n(<tf.Tensor: shape=(), dtype=float32, numpy=17.81885>, <tf.Tensor: shape=(), dtype=float32, numpy=0.32822198>)\n(<tf.Tensor: shape=(), dtype=float32, numpy=-7.8826084>, <tf.Tensor: shape=(), dtype=float32, numpy=-1.5501705>)\n(<tf.Tensor: shape=(), dtype=float32, numpy=4.130192>, <tf.Tensor: shape=(), dtype=float32, numpy=-13.972348>)\n(<tf.Tensor: shape=(), dtype=float32, numpy=0.14423533>, <tf.Tensor: shape=(), dtype=float32, numpy=-9.820372>)\n(<tf.Tensor: shape=(), dtype=float32, numpy=18.991467>, <tf.Tensor: shape=(), dtype=float32, numpy=2.8860967>)\n(<tf.Tensor: shape=(), dtype=float32, numpy=15.337391>, <tf.Tensor: shape=(), dtype=float32, numpy=4.0880666>)\n(<tf.Tensor: shape=(), dtype=float32, numpy=3.364965>, <tf.Tensor: shape=(), dtype=float32, numpy=-1.7108926>)\n(<tf.Tensor: shape=(), dtype=float32, numpy=-5.969294>, <tf.Tensor: shape=(), dtype=float32, numpy=-4.852349>)\n(<tf.Tensor: shape=(), dtype=float32, numpy=7.6248856>, <tf.Tensor: shape=(), dtype=float32, numpy=4.896219>)\n(<tf.Tensor: shape=(), dtype=float32, numpy=-1.7987098>, <tf.Tensor: shape=(), dtype=float32, numpy=-1.1153716>)\n(<tf.Tensor: shape=(), dtype=float32, numpy=-4.442676>, <tf.Tensor: shape=(), dtype=float32, numpy=-2.0567417>)\n(<tf.Tensor: shape=(), dtype=float32, numpy=16.75323>, <tf.Tensor: shape=(), dtype=float32, numpy=3.3377237>)\n(<tf.Tensor: shape=(), dtype=float32, numpy=12.788957>, <tf.Tensor: shape=(), dtype=float32, numpy=-6.411818>)\n(<tf.Tensor: shape=(), dtype=float32, numpy=2.3564496>, <tf.Tensor: shape=(), dtype=float32, numpy=-9.006617>)\n(<tf.Tensor: shape=(), dtype=float32, numpy=12.790931>, <tf.Tensor: shape=(), dtype=float32, numpy=-4.725701>)\n(<tf.Tensor: shape=(), dtype=float32, numpy=5.9306273>, <tf.Tensor: shape=(), dtype=float32, numpy=0.035455994>)\n(<tf.Tensor: shape=(), dtype=float32, numpy=13.249324>, <tf.Tensor: shape=(), dtype=float32, numpy=-7.026893>)\n(<tf.Tensor: shape=(), dtype=float32, numpy=4.24409>, <tf.Tensor: shape=(), dtype=float32, numpy=-9.531709>)\n(<tf.Tensor: shape=(), dtype=float32, numpy=12.417399>, <tf.Tensor: shape=(), dtype=float32, numpy=-6.923331>)\n(<tf.Tensor: shape=(), dtype=float32, numpy=-6.6442194>, <tf.Tensor: shape=(), dtype=float32, numpy=-2.862755>)\n(<tf.Tensor: shape=(), dtype=float32, numpy=17.852444>, <tf.Tensor: shape=(), dtype=float32, numpy=1.2871904>)\n(<tf.Tensor: shape=(), dtype=float32, numpy=-3.821464>, <tf.Tensor: shape=(), dtype=float32, numpy=-2.6834145>)\n(<tf.Tensor: shape=(), dtype=float32, numpy=20.98759>, <tf.Tensor: shape=(), dtype=float32, numpy=3.1155856>)\n(<tf.Tensor: shape=(), dtype=float32, numpy=14.733748>, <tf.Tensor: shape=(), dtype=float32, numpy=-7.554161>)\n(<tf.Tensor: shape=(), dtype=float32, numpy=11.98946>, <tf.Tensor: shape=(), dtype=float32, numpy=1.7505428>)\n(<tf.Tensor: shape=(), dtype=float32, numpy=2.7028124>, <tf.Tensor: shape=(), dtype=float32, numpy=-13.603875>)\n(<tf.Tensor: shape=(), dtype=float32, numpy=16.993996>, <tf.Tensor: shape=(), dtype=float32, numpy=5.30379>)\n(<tf.Tensor: shape=(), dtype=float32, numpy=3.1397147>, <tf.Tensor: shape=(), dtype=float32, numpy=-7.090882>)\n(<tf.Tensor: shape=(), dtype=float32, numpy=8.500729>, <tf.Tensor: shape=(), dtype=float32, numpy=1.8211575>)\n(<tf.Tensor: shape=(), dtype=float32, numpy=16.78124>, <tf.Tensor: shape=(), dtype=float32, numpy=6.0771523>)\n(<tf.Tensor: shape=(), dtype=float32, numpy=-7.5784473>, <tf.Tensor: shape=(), dtype=float32, numpy=1.6342086>)\n(<tf.Tensor: shape=(), dtype=float32, numpy=-0.106342964>, <tf.Tensor: shape=(), dtype=float32, numpy=3.4361598>)\n(<tf.Tensor: shape=(), dtype=float32, numpy=-0.15103067>, <tf.Tensor: shape=(), dtype=float32, numpy=-8.081818>)\n(<tf.Tensor: shape=(), dtype=float32, numpy=-6.0810404>, <tf.Tensor: shape=(), dtype=float32, numpy=-2.6557064>)\n(<tf.Tensor: shape=(), dtype=float32, numpy=-5.4269214>, <tf.Tensor: shape=(), dtype=float32, numpy=0.5411027>)\n(<tf.Tensor: shape=(), dtype=float32, numpy=-11.95766>, <tf.Tensor: shape=(), dtype=float32, numpy=-0.28445646>)\n(<tf.Tensor: shape=(), dtype=float32, numpy=-5.2142653>, <tf.Tensor: shape=(), dtype=float32, numpy=-0.431148>)\n(<tf.Tensor: shape=(), dtype=float32, numpy=7.2484627>, <tf.Tensor: shape=(), dtype=float32, numpy=0.3839677>)\n(<tf.Tensor: shape=(), dtype=float32, numpy=-7.5139623>, <tf.Tensor: shape=(), dtype=float32, numpy=-6.371559>)\n(<tf.Tensor: shape=(), dtype=float32, numpy=7.1392636>, <tf.Tensor: shape=(), dtype=float32, numpy=0.8082361>)\n(<tf.Tensor: shape=(), dtype=float32, numpy=0.24152054>, <tf.Tensor: shape=(), dtype=float32, numpy=-8.863897>)\n(<tf.Tensor: shape=(), dtype=float32, numpy=16.327251>, <tf.Tensor: shape=(), dtype=float32, numpy=6.9331183>)\n(<tf.Tensor: shape=(), dtype=float32, numpy=0.16766615>, <tf.Tensor: shape=(), dtype=float32, numpy=-1.2552078>)\n(<tf.Tensor: shape=(), dtype=float32, numpy=0.2186502>, <tf.Tensor: shape=(), dtype=float32, numpy=-8.188827>)\n(<tf.Tensor: shape=(), dtype=float32, numpy=5.40198>, <tf.Tensor: shape=(), dtype=float32, numpy=-9.477245>)\n(<tf.Tensor: shape=(), dtype=float32, numpy=11.255791>, <tf.Tensor: shape=(), dtype=float32, numpy=-6.9485097>)\n(<tf.Tensor: shape=(), dtype=float32, numpy=12.660638>, <tf.Tensor: shape=(), dtype=float32, numpy=-6.5251117>)\n(<tf.Tensor: shape=(), dtype=float32, numpy=12.837488>, <tf.Tensor: shape=(), dtype=float32, numpy=-0.73690313>)\n(<tf.Tensor: shape=(), dtype=float32, numpy=11.66019>, <tf.Tensor: shape=(), dtype=float32, numpy=2.5463672>)\n(<tf.Tensor: shape=(), dtype=float32, numpy=10.537597>, <tf.Tensor: shape=(), dtype=float32, numpy=-4.945517>)\n(<tf.Tensor: shape=(), dtype=float32, numpy=20.555971>, <tf.Tensor: shape=(), dtype=float32, numpy=2.7672286>)\n(<tf.Tensor: shape=(), dtype=float32, numpy=6.559984>, <tf.Tensor: shape=(), dtype=float32, numpy=2.1827304>)\n(<tf.Tensor: shape=(), dtype=float32, numpy=-8.930183>, <tf.Tensor: shape=(), dtype=float32, numpy=-0.8462347>)\n(<tf.Tensor: shape=(), dtype=float32, numpy=17.114782>, <tf.Tensor: shape=(), dtype=float32, numpy=2.1515324>)\n(<tf.Tensor: shape=(), dtype=float32, numpy=18.184168>, <tf.Tensor: shape=(), dtype=float32, numpy=5.4971437>)\n(<tf.Tensor: shape=(), dtype=float32, numpy=-4.7685466>, <tf.Tensor: shape=(), dtype=float32, numpy=0.6500675>)\n(<tf.Tensor: shape=(), dtype=float32, numpy=-0.4124489>, <tf.Tensor: shape=(), dtype=float32, numpy=-10.392544>)\n(<tf.Tensor: shape=(), dtype=float32, numpy=14.527752>, <tf.Tensor: shape=(), dtype=float32, numpy=-10.708907>)\n(<tf.Tensor: shape=(), dtype=float32, numpy=-6.273397>, <tf.Tensor: shape=(), dtype=float32, numpy=-4.675904>)\n(<tf.Tensor: shape=(), dtype=float32, numpy=14.3576565>, <tf.Tensor: shape=(), dtype=float32, numpy=4.2376523>)\n(<tf.Tensor: shape=(), dtype=float32, numpy=6.862538>, <tf.Tensor: shape=(), dtype=float32, numpy=-1.9093995>)\n(<tf.Tensor: shape=(), dtype=float32, numpy=0.19541274>, <tf.Tensor: shape=(), dtype=float32, numpy=-7.4933667>)\n(<tf.Tensor: shape=(), dtype=float32, numpy=-3.6586425>, <tf.Tensor: shape=(), dtype=float32, numpy=-3.8517046>)\n(<tf.Tensor: shape=(), dtype=float32, numpy=-3.8262815>, <tf.Tensor: shape=(), dtype=float32, numpy=-5.183978>)\n(<tf.Tensor: shape=(), dtype=float32, numpy=4.059498>, <tf.Tensor: shape=(), dtype=float32, numpy=4.2755494>)\n(<tf.Tensor: shape=(), dtype=float32, numpy=1.9006387>, <tf.Tensor: shape=(), dtype=float32, numpy=-6.448468>)\n(<tf.Tensor: shape=(), dtype=float32, numpy=15.96587>, <tf.Tensor: shape=(), dtype=float32, numpy=-10.651882>)\n(<tf.Tensor: shape=(), dtype=float32, numpy=-6.6898036>, <tf.Tensor: shape=(), dtype=float32, numpy=-6.464646>)\n(<tf.Tensor: shape=(), dtype=float32, numpy=2.6871161>, <tf.Tensor: shape=(), dtype=float32, numpy=-7.733286>)\n(<tf.Tensor: shape=(), dtype=float32, numpy=3.9974446>, <tf.Tensor: shape=(), dtype=float32, numpy=-0.76494145>)\n(<tf.Tensor: shape=(), dtype=float32, numpy=15.015566>, <tf.Tensor: shape=(), dtype=float32, numpy=-8.984343>)\n(<tf.Tensor: shape=(), dtype=float32, numpy=17.14728>, <tf.Tensor: shape=(), dtype=float32, numpy=2.846628>)\n(<tf.Tensor: shape=(), dtype=float32, numpy=-10.360062>, <tf.Tensor: shape=(), dtype=float32, numpy=3.0077937>)\n(<tf.Tensor: shape=(), dtype=float32, numpy=-4.221413>, <tf.Tensor: shape=(), dtype=float32, numpy=0.063769996>)\n(<tf.Tensor: shape=(), dtype=float32, numpy=3.2540967>, <tf.Tensor: shape=(), dtype=float32, numpy=-11.136699>)\n(<tf.Tensor: shape=(), dtype=float32, numpy=-8.373204>, <tf.Tensor: shape=(), dtype=float32, numpy=-1.859828>)\n(<tf.Tensor: shape=(), dtype=float32, numpy=15.6237335>, <tf.Tensor: shape=(), dtype=float32, numpy=0.6752253>)\n(<tf.Tensor: shape=(), dtype=float32, numpy=14.384127>, <tf.Tensor: shape=(), dtype=float32, numpy=-6.168813>)\n(<tf.Tensor: shape=(), dtype=float32, numpy=5.85816>, <tf.Tensor: shape=(), dtype=float32, numpy=3.3783216>)\n(<tf.Tensor: shape=(), dtype=float32, numpy=-3.448075>, <tf.Tensor: shape=(), dtype=float32, numpy=-5.9290075>)\n"
    },
    {
     "output_type": "error",
     "ename": "AttributeError",
     "evalue": "'tuple' object has no attribute 'numpy'",
     "traceback": [
      "\u001b[1;31m---------------------------------------------------------------------------\u001b[0m",
      "\u001b[1;31mAttributeError\u001b[0m                            Traceback (most recent call last)",
      "\u001b[1;32m<ipython-input-21-dc0c1ca7e8fe>\u001b[0m in \u001b[0;36m<module>\u001b[1;34m\u001b[0m\n\u001b[0;32m      6\u001b[0m \u001b[0miterator\u001b[0m \u001b[1;33m=\u001b[0m \u001b[0mtf\u001b[0m\u001b[1;33m.\u001b[0m\u001b[0mcompat\u001b[0m\u001b[1;33m.\u001b[0m\u001b[0mv1\u001b[0m\u001b[1;33m.\u001b[0m\u001b[0mdata\u001b[0m\u001b[1;33m.\u001b[0m\u001b[0mmake_one_shot_iterator\u001b[0m\u001b[1;33m(\u001b[0m\u001b[0mdataset\u001b[0m\u001b[1;33m)\u001b[0m\u001b[1;33m\u001b[0m\u001b[1;33m\u001b[0m\u001b[0m\n\u001b[0;32m      7\u001b[0m \u001b[1;32mfor\u001b[0m \u001b[0mitem\u001b[0m \u001b[1;32min\u001b[0m \u001b[0mdataset\u001b[0m\u001b[1;33m:\u001b[0m\u001b[1;33m\u001b[0m\u001b[1;33m\u001b[0m\u001b[0m\n\u001b[1;32m----> 8\u001b[1;33m     \u001b[0mval\u001b[0m \u001b[1;33m=\u001b[0m \u001b[0miterator\u001b[0m\u001b[1;33m.\u001b[0m\u001b[0mget_next\u001b[0m\u001b[1;33m(\u001b[0m\u001b[1;33m)\u001b[0m\u001b[1;33m.\u001b[0m\u001b[0mnumpy\u001b[0m\u001b[1;33m(\u001b[0m\u001b[1;33m)\u001b[0m\u001b[1;33m\u001b[0m\u001b[1;33m\u001b[0m\u001b[0m\n\u001b[0m\u001b[0;32m      9\u001b[0m     \u001b[0mprint\u001b[0m\u001b[1;33m(\u001b[0m\u001b[0mval\u001b[0m\u001b[1;33m)\u001b[0m\u001b[1;33m\u001b[0m\u001b[1;33m\u001b[0m\u001b[0m\n",
      "\u001b[1;31mAttributeError\u001b[0m: 'tuple' object has no attribute 'numpy'"
     ]
    }
   ],
   "source": [
    "filename = [\"./size_1000.csv\"]\n",
    "record_defaults = [tf.float32]*2\n",
    "dataset = tf.data.experimental.CsvDataset(filename, record_defaults, header=True, select_cols = [1, 2])\n",
    "for item in dataset:\n",
    "    print(item)\n"
   ]
  },
  {
   "cell_type": "code",
   "execution_count": 2,
   "metadata": {
    "tags": []
   },
   "outputs": [
    {
     "output_type": "stream",
     "name": "stdout",
     "text": "(<tf.Tensor: shape=(), dtype=float32, numpy=428000.0>, <tf.Tensor: shape=(), dtype=float32, numpy=555.0>, <tf.Tensor: shape=(), dtype=int32, numpy=42>)\n(<tf.Tensor: shape=(), dtype=float32, numpy=-5.3>, <tf.Tensor: shape=(), dtype=float32, numpy=0.0>, <tf.Tensor: shape=(), dtype=int32, numpy=69>)\n"
    }
   ],
   "source": [
    "filename = \"mycsvfile.txt\"\n",
    "record_defaults = [tf.float32, tf.constant([0.0], dtype=tf.float32), tf.int32]\n",
    "dataset = tf.data.experimental.CsvDataset(filename, record_defaults, header=False, select_cols = [1, 2, 3])\n",
    "for item in dataset:\n",
    "    print(item)\n",
    "#Record_deafults sets the default value and type of elements in the corresponding tensors"
   ]
  },
  {
   "cell_type": "code",
   "execution_count": 5,
   "metadata": {
    "tags": []
   },
   "outputs": [
    {
     "output_type": "stream",
     "name": "stdout",
     "text": "12.6 23.4  Abc.co.uk\n98.7 56.8  Xyz.com\n34.2 68.1  Pqr.net\n"
    }
   ],
   "source": [
    "filename = 'file1.txt'\n",
    "record_defaults = [tf.float32, tf.float32, tf.string]\n",
    "dataset = tf.data.experimental.CsvDataset(filename, record_defaults, header = False)\n",
    "for item in dataset:\n",
    "    print(item[0].numpy(), item[1].numpy(), item[2].numpy().decode())"
   ]
  },
  {
   "cell_type": "markdown",
   "metadata": {},
   "source": [
    "# TFRecords"
   ]
  },
  {
   "cell_type": "markdown",
   "metadata": {},
   "source": [
    "Structure of a TFRecord file must be specified before saving for it to be properly written and read back.\n",
    "Store each sample of the data in a tf.train.Example or tf.train.SequenceExample then serialize it using tf.python_io.TFRecordWriter before saving it to the disk."
   ]
  },
  {
   "cell_type": "code",
   "execution_count": 4,
   "metadata": {},
   "outputs": [],
   "source": [
    "data = np.array([10., 11, 12, 13, 14, 15])\n",
    "\n",
    "def np_to_tfrecords(fname, data):\n",
    "    writer = tf.io.TFRecordWriter(fname)\n",
    "    feature = {}\n",
    "    feature['data'] = tf.train.Feature(float_list = tf.train.FloatList(value=data))\n",
    "    example = tf.train.Example(features=tf.train.Features(feature=feature))\n",
    "    serialized = example.SerializeToString()\n",
    "    writer.write(serialized)\n",
    "    writer.close()\n",
    "\n",
    "np_to_tfrecords(\"./myfile.tfrecords\", data)\n",
    "\n"
   ]
  },
  {
   "cell_type": "code",
   "execution_count": 5,
   "metadata": {
    "tags": []
   },
   "outputs": [
    {
     "output_type": "stream",
     "name": "stdout",
     "text": "tf.Tensor([10. 11. 12. 13. 14. 15.], shape=(6,), dtype=float32)\n[10. 11. 12. 13. 14. 15.]\n12.0\n"
    }
   ],
   "source": [
    "dataset = tf.data.TFRecordDataset(\"./myfile.tfrecords\")\n",
    "\n",
    "def parse_function(example_proto):\n",
    "    keys_to_features = {'data':tf.io.FixedLenSequenceFeature([], dtype = tf.float32, allow_missing = True)}\n",
    "    parsed_features = tf.io.parse_single_example(serialized = example_proto, features = keys_to_features)\n",
    "    return parsed_features['data']\n",
    "\n",
    "dataset = dataset.map(parse_function)\n",
    "iterator = tf.compat.v1.data.make_one_shot_iterator(dataset)\n",
    "item = iterator.get_next()\n",
    "\n",
    "print(item)\n",
    "print(item.numpy())\n",
    "print(item[2].numpy())"
   ]
  },
  {
   "cell_type": "code",
   "execution_count": 16,
   "metadata": {},
   "outputs": [],
   "source": [
    "filename = './students.tfrecords'\n",
    "data = {\n",
    "    'ID': 61553,\n",
    "    'Name': ['Jones', 'Felicity'],\n",
    "    'Scores': [45.6, 97.2]\n",
    "}"
   ]
  },
  {
   "cell_type": "code",
   "execution_count": 17,
   "metadata": {},
   "outputs": [],
   "source": [
    "ID = tf.train.Feature(int64_list = tf.train.Int64List(value=[data['ID']]))\n",
    "Name = tf.train.Feature(bytes_list = tf.train.BytesList(value = [n.encode('utf-8') for n in data['Name']]))\n",
    "Scores = tf.train.Feature(float_list = tf.train.FloatList(value=data['Scores']))\n",
    "example = tf.train.Example(features=tf.train.Features(feature={'ID':ID, 'Name':Name, 'Scores':Scores}))"
   ]
  },
  {
   "cell_type": "code",
   "execution_count": 18,
   "metadata": {},
   "outputs": [],
   "source": [
    "writer = tf.io.TFRecordWriter(filename)\n",
    "writer.write(example.SerializeToString())\n",
    "writer.close()"
   ]
  },
  {
   "cell_type": "code",
   "execution_count": 29,
   "metadata": {
    "tags": []
   },
   "outputs": [
    {
     "output_type": "stream",
     "name": "stdout",
     "text": "tf.Tensor(b'\\nD\\n\\r\\n\\x02ID\\x12\\x07\\x1a\\x05\\n\\x03\\xf1\\xe0\\x03\\n\\x1b\\n\\x04Name\\x12\\x13\\n\\x11\\n\\x05Jones\\n\\x08Felicity\\n\\x16\\n\\x06Scores\\x12\\x0c\\x12\\n\\n\\x08ff6Bff\\xc2B', shape=(), dtype=string)\n"
    }
   ],
   "source": [
    "dataset = tf.data.TFRecordDataset(\"./students.tfrecords\")\n",
    "\n",
    "def parse_function(example_proto):\n",
    "    keys_to_features = {'ID':tf.io.FixedLenFeature([], dtype=tf.int64), 'Name':tf.io.VarLenFeature(dtype=tf.string), 'Scores':tf.io.VarLenFeature(dtype=tf.float32)}\n",
    "    parsed_features = tf.io.parse_single_example(serialized=example_proto, features=keys_to_features)\n",
    "    return parsed_features[\"ID\"], parsed_features[\"Name\"], parsed_features[\"Scores\"]\n",
    "\n",
    "datast = dataset.map(parse_function)\n",
    "\n",
    "iterator = tf.compat.v1.data.make_one_shot_iterator(dataset)\n",
    "item = iterator.get_next()\n",
    "print(item)\n"
   ]
  },
  {
   "cell_type": "code",
   "execution_count": 25,
   "metadata": {},
   "outputs": [
    {
     "output_type": "error",
     "ename": "InvalidArgumentError",
     "evalue": "Index out of range using input dim 0; input has only 0 dims [Op:StridedSlice] name: strided_slice/",
     "traceback": [
      "\u001b[1;31m---------------------------------------------------------------------------\u001b[0m",
      "\u001b[1;31mInvalidArgumentError\u001b[0m                      Traceback (most recent call last)",
      "\u001b[1;32m<ipython-input-25-76cb01d9aaaa>\u001b[0m in \u001b[0;36m<module>\u001b[1;34m\u001b[0m\n\u001b[0;32m      1\u001b[0m \u001b[1;31m#print(\"ID: \", item[0].numpy())\u001b[0m\u001b[1;33m\u001b[0m\u001b[1;33m\u001b[0m\u001b[1;33m\u001b[0m\u001b[0m\n\u001b[1;32m----> 2\u001b[1;33m \u001b[0mname\u001b[0m \u001b[1;33m=\u001b[0m \u001b[0mitem\u001b[0m\u001b[1;33m[\u001b[0m\u001b[1;36m1\u001b[0m\u001b[1;33m]\u001b[0m\u001b[1;33m.\u001b[0m\u001b[0mvalues\u001b[0m\u001b[1;33m.\u001b[0m\u001b[0mnumpy\u001b[0m\u001b[1;33m(\u001b[0m\u001b[1;33m)\u001b[0m\u001b[1;33m\u001b[0m\u001b[1;33m\u001b[0m\u001b[0m\n\u001b[0m\u001b[0;32m      3\u001b[0m \u001b[0mname1\u001b[0m \u001b[1;33m=\u001b[0m \u001b[0mname\u001b[0m\u001b[1;33m[\u001b[0m\u001b[1;36m0\u001b[0m\u001b[1;33m]\u001b[0m\u001b[1;33m.\u001b[0m\u001b[0mdecode\u001b[0m\u001b[1;33m(\u001b[0m\u001b[1;34m'utf-8'\u001b[0m\u001b[1;33m)\u001b[0m\u001b[1;33m\u001b[0m\u001b[1;33m\u001b[0m\u001b[0m\n\u001b[0;32m      4\u001b[0m \u001b[0mname2\u001b[0m \u001b[1;33m=\u001b[0m \u001b[0mname\u001b[0m\u001b[1;33m[\u001b[0m\u001b[1;36m1\u001b[0m\u001b[1;33m]\u001b[0m\u001b[1;33m.\u001b[0m\u001b[0mdecode\u001b[0m\u001b[1;33m(\u001b[0m\u001b[1;34m'utf-8'\u001b[0m\u001b[1;33m)\u001b[0m\u001b[1;33m\u001b[0m\u001b[1;33m\u001b[0m\u001b[0m\n\u001b[0;32m      5\u001b[0m \u001b[0mprint\u001b[0m\u001b[1;33m(\u001b[0m\u001b[1;34m'Name: '\u001b[0m\u001b[1;33m,\u001b[0m \u001b[0mname1\u001b[0m\u001b[1;33m,\u001b[0m \u001b[1;34m\", \"\u001b[0m\u001b[1;33m,\u001b[0m \u001b[0mname2\u001b[0m\u001b[1;33m)\u001b[0m\u001b[1;33m\u001b[0m\u001b[1;33m\u001b[0m\u001b[0m\n",
      "\u001b[1;32mC:\\ProgramData\\Anaconda3\\lib\\site-packages\\tensorflow_core\\python\\ops\\array_ops.py\u001b[0m in \u001b[0;36m_slice_helper\u001b[1;34m(tensor, slice_spec, var)\u001b[0m\n\u001b[0;32m    896\u001b[0m         \u001b[0mellipsis_mask\u001b[0m\u001b[1;33m=\u001b[0m\u001b[0mellipsis_mask\u001b[0m\u001b[1;33m,\u001b[0m\u001b[1;33m\u001b[0m\u001b[1;33m\u001b[0m\u001b[0m\n\u001b[0;32m    897\u001b[0m         \u001b[0mvar\u001b[0m\u001b[1;33m=\u001b[0m\u001b[0mvar\u001b[0m\u001b[1;33m,\u001b[0m\u001b[1;33m\u001b[0m\u001b[1;33m\u001b[0m\u001b[0m\n\u001b[1;32m--> 898\u001b[1;33m         name=name)\n\u001b[0m\u001b[0;32m    899\u001b[0m \u001b[1;33m\u001b[0m\u001b[0m\n\u001b[0;32m    900\u001b[0m \u001b[1;33m\u001b[0m\u001b[0m\n",
      "\u001b[1;32mC:\\ProgramData\\Anaconda3\\lib\\site-packages\\tensorflow_core\\python\\ops\\array_ops.py\u001b[0m in \u001b[0;36mstrided_slice\u001b[1;34m(input_, begin, end, strides, begin_mask, end_mask, ellipsis_mask, new_axis_mask, shrink_axis_mask, var, name)\u001b[0m\n\u001b[0;32m   1062\u001b[0m       \u001b[0mellipsis_mask\u001b[0m\u001b[1;33m=\u001b[0m\u001b[0mellipsis_mask\u001b[0m\u001b[1;33m,\u001b[0m\u001b[1;33m\u001b[0m\u001b[1;33m\u001b[0m\u001b[0m\n\u001b[0;32m   1063\u001b[0m       \u001b[0mnew_axis_mask\u001b[0m\u001b[1;33m=\u001b[0m\u001b[0mnew_axis_mask\u001b[0m\u001b[1;33m,\u001b[0m\u001b[1;33m\u001b[0m\u001b[1;33m\u001b[0m\u001b[0m\n\u001b[1;32m-> 1064\u001b[1;33m       shrink_axis_mask=shrink_axis_mask)\n\u001b[0m\u001b[0;32m   1065\u001b[0m \u001b[1;33m\u001b[0m\u001b[0m\n\u001b[0;32m   1066\u001b[0m   \u001b[0mparent_name\u001b[0m \u001b[1;33m=\u001b[0m \u001b[0mname\u001b[0m\u001b[1;33m\u001b[0m\u001b[1;33m\u001b[0m\u001b[0m\n",
      "\u001b[1;32mC:\\ProgramData\\Anaconda3\\lib\\site-packages\\tensorflow_core\\python\\ops\\gen_array_ops.py\u001b[0m in \u001b[0;36mstrided_slice\u001b[1;34m(input, begin, end, strides, begin_mask, end_mask, ellipsis_mask, new_axis_mask, shrink_axis_mask, name)\u001b[0m\n\u001b[0;32m   9510\u001b[0m         \u001b[1;32mpass\u001b[0m  \u001b[1;31m# Add nodes to the TensorFlow graph.\u001b[0m\u001b[1;33m\u001b[0m\u001b[1;33m\u001b[0m\u001b[0m\n\u001b[0;32m   9511\u001b[0m     \u001b[1;32mexcept\u001b[0m \u001b[0m_core\u001b[0m\u001b[1;33m.\u001b[0m\u001b[0m_NotOkStatusException\u001b[0m \u001b[1;32mas\u001b[0m \u001b[0me\u001b[0m\u001b[1;33m:\u001b[0m\u001b[1;33m\u001b[0m\u001b[1;33m\u001b[0m\u001b[0m\n\u001b[1;32m-> 9512\u001b[1;33m       \u001b[0m_ops\u001b[0m\u001b[1;33m.\u001b[0m\u001b[0mraise_from_not_ok_status\u001b[0m\u001b[1;33m(\u001b[0m\u001b[0me\u001b[0m\u001b[1;33m,\u001b[0m \u001b[0mname\u001b[0m\u001b[1;33m)\u001b[0m\u001b[1;33m\u001b[0m\u001b[1;33m\u001b[0m\u001b[0m\n\u001b[0m\u001b[0;32m   9513\u001b[0m   \u001b[1;31m# Add nodes to the TensorFlow graph.\u001b[0m\u001b[1;33m\u001b[0m\u001b[1;33m\u001b[0m\u001b[1;33m\u001b[0m\u001b[0m\n\u001b[0;32m   9514\u001b[0m   \u001b[1;32mif\u001b[0m \u001b[0mbegin_mask\u001b[0m \u001b[1;32mis\u001b[0m \u001b[1;32mNone\u001b[0m\u001b[1;33m:\u001b[0m\u001b[1;33m\u001b[0m\u001b[1;33m\u001b[0m\u001b[0m\n",
      "\u001b[1;32mC:\\ProgramData\\Anaconda3\\lib\\site-packages\\tensorflow_core\\python\\framework\\ops.py\u001b[0m in \u001b[0;36mraise_from_not_ok_status\u001b[1;34m(e, name)\u001b[0m\n\u001b[0;32m   6604\u001b[0m   \u001b[0mmessage\u001b[0m \u001b[1;33m=\u001b[0m \u001b[0me\u001b[0m\u001b[1;33m.\u001b[0m\u001b[0mmessage\u001b[0m \u001b[1;33m+\u001b[0m \u001b[1;33m(\u001b[0m\u001b[1;34m\" name: \"\u001b[0m \u001b[1;33m+\u001b[0m \u001b[0mname\u001b[0m \u001b[1;32mif\u001b[0m \u001b[0mname\u001b[0m \u001b[1;32mis\u001b[0m \u001b[1;32mnot\u001b[0m \u001b[1;32mNone\u001b[0m \u001b[1;32melse\u001b[0m \u001b[1;34m\"\"\u001b[0m\u001b[1;33m)\u001b[0m\u001b[1;33m\u001b[0m\u001b[1;33m\u001b[0m\u001b[0m\n\u001b[0;32m   6605\u001b[0m   \u001b[1;31m# pylint: disable=protected-access\u001b[0m\u001b[1;33m\u001b[0m\u001b[1;33m\u001b[0m\u001b[1;33m\u001b[0m\u001b[0m\n\u001b[1;32m-> 6606\u001b[1;33m   \u001b[0msix\u001b[0m\u001b[1;33m.\u001b[0m\u001b[0mraise_from\u001b[0m\u001b[1;33m(\u001b[0m\u001b[0mcore\u001b[0m\u001b[1;33m.\u001b[0m\u001b[0m_status_to_exception\u001b[0m\u001b[1;33m(\u001b[0m\u001b[0me\u001b[0m\u001b[1;33m.\u001b[0m\u001b[0mcode\u001b[0m\u001b[1;33m,\u001b[0m \u001b[0mmessage\u001b[0m\u001b[1;33m)\u001b[0m\u001b[1;33m,\u001b[0m \u001b[1;32mNone\u001b[0m\u001b[1;33m)\u001b[0m\u001b[1;33m\u001b[0m\u001b[1;33m\u001b[0m\u001b[0m\n\u001b[0m\u001b[0;32m   6607\u001b[0m   \u001b[1;31m# pylint: enable=protected-access\u001b[0m\u001b[1;33m\u001b[0m\u001b[1;33m\u001b[0m\u001b[1;33m\u001b[0m\u001b[0m\n\u001b[0;32m   6608\u001b[0m \u001b[1;33m\u001b[0m\u001b[0m\n",
      "\u001b[1;32m~\\AppData\\Roaming\\Python\\Python37\\site-packages\\six.py\u001b[0m in \u001b[0;36mraise_from\u001b[1;34m(value, from_value)\u001b[0m\n",
      "\u001b[1;31mInvalidArgumentError\u001b[0m: Index out of range using input dim 0; input has only 0 dims [Op:StridedSlice] name: strided_slice/"
     ]
    }
   ],
   "source": [
    "print(\"ID: \", item[0].numpy())\n",
    "name = item[1].values.numpy()\n",
    "name1 = name[0].decode('utf-8')\n",
    "name2 = name[1].decode('utf-8')\n",
    "print('Name: ', name1, \", \", name2)\n",
    "print(\"Scores: \", item[2].values.numpy())"
   ]
  },
  {
   "cell_type": "markdown",
   "metadata": {},
   "source": [
    "# One Hot Encoding"
   ]
  },
  {
   "cell_type": "code",
   "execution_count": 32,
   "metadata": {
    "tags": []
   },
   "outputs": [
    {
     "output_type": "stream",
     "name": "stdout",
     "text": "5  is  [0. 0. 0. 0. 0. 1. 0. 0. 0. 0.]  when one hot encoded.\n"
    }
   ],
   "source": [
    "y = 5\n",
    "y_train_ohe = tf.one_hot(y, depth=10).numpy()\n",
    "print(y, \" is \", y_train_ohe, \" when one hot encoded.\")"
   ]
  },
  {
   "cell_type": "code",
   "execution_count": 37,
   "metadata": {
    "tags": []
   },
   "outputs": [
    {
     "output_type": "stream",
     "name": "stdout",
     "text": "2\n[0. 0. 1. 0. 0. 0. 0. 0. 0. 0.]\n"
    }
   ],
   "source": [
    "from tensorflow.python.keras.datasets import fashion_mnist\n",
    "\n",
    "width, height = 28, 28\n",
    "n_classes = 10\n",
    "\n",
    "(x_train, y_train), (x_test, y_test) = fashion_mnist.load_data()\n",
    "split = 50000\n",
    "(y_train, y_valid) = y_train[:split], y_train[split:]\n",
    "\n",
    "y_train_ohe = tf.one_hot(y_train, depth = n_classes).numpy()\n",
    "y_valid_ohe = tf.one_hot(y_valid, depth = n_classes).numpy()\n",
    "y_test_ohe = tf.one_hot(y_test, depth = n_classes).numpy()\n",
    "\n",
    "i = 5\n",
    "print(y_train[i])\n",
    "#i=5 is 2\n",
    "print(y_train_ohe[i])"
   ]
  },
  {
   "cell_type": "code",
   "execution_count": null,
   "metadata": {},
   "outputs": [],
   "source": []
  }
 ],
 "metadata": {
  "language_info": {
   "codemirror_mode": {
    "name": "ipython",
    "version": 3
   },
   "file_extension": ".py",
   "mimetype": "text/x-python",
   "name": "python",
   "nbconvert_exporter": "python",
   "pygments_lexer": "ipython3",
   "version": 3
  },
  "orig_nbformat": 2,
  "kernelspec": {
   "name": "python_defaultSpec_1593844512409",
   "display_name": "Python 3.7.4 64-bit ('base': conda)"
  }
 },
 "nbformat": 4,
 "nbformat_minor": 2
}